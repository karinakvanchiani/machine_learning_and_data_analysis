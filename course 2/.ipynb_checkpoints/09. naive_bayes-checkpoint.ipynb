{
 "cells": [
  {
   "cell_type": "code",
   "execution_count": 9,
   "metadata": {},
   "outputs": [],
   "source": [
    "from sklearn.datasets import load_digits, load_breast_cancer\n",
    "from sklearn.model_selection import cross_val_score\n",
    "from sklearn.naive_bayes import BernoulliNB, MultinomialNB, GaussianNB\n",
    "\n",
    "import numpy as np"
   ]
  },
  {
   "cell_type": "code",
   "execution_count": 7,
   "metadata": {},
   "outputs": [],
   "source": [
    "digits = load_digits()\n",
    "data_1 = digits.data\n",
    "target_1 = digits.target"
   ]
  },
  {
   "cell_type": "code",
   "execution_count": 8,
   "metadata": {},
   "outputs": [],
   "source": [
    "cancer = load_breast_cancer()\n",
    "data_2 = cancer.data\n",
    "target_2 = cancer.target"
   ]
  },
  {
   "cell_type": "code",
   "execution_count": 14,
   "metadata": {},
   "outputs": [],
   "source": [
    "def cross(clf, X, y):\n",
    "    if clf == 0:\n",
    "        clf = BernoulliNB()\n",
    "        clf.fit(X, y)\n",
    "        score = np.mean(cross_val_score(clf, X, y, n_jobs = -1))\n",
    "    elif clf == 1:\n",
    "        clf = MultinomialNB()\n",
    "        clf.fit(X, y)\n",
    "        score = np.mean(cross_val_score(clf, X, y, n_jobs = -1))\n",
    "    else:\n",
    "        clf = GaussianNB()\n",
    "        clf.fit(X, y)\n",
    "        score = np.mean(cross_val_score(clf, X, y, n_jobs = -1))\n",
    "    return score"
   ]
  },
  {
   "cell_type": "code",
   "execution_count": 21,
   "metadata": {},
   "outputs": [],
   "source": [
    "score_digits = []\n",
    "score_digits.append(cross(0, data_1, target_1))"
   ]
  },
  {
   "cell_type": "code",
   "execution_count": 22,
   "metadata": {},
   "outputs": [],
   "source": [
    "score_digits.append(cross(1, data_1, target_1))"
   ]
  },
  {
   "cell_type": "code",
   "execution_count": 23,
   "metadata": {},
   "outputs": [],
   "source": [
    "score_digits.append(cross(2, data_1, target_1))"
   ]
  },
  {
   "cell_type": "code",
   "execution_count": 24,
   "metadata": {},
   "outputs": [
    {
     "data": {
      "text/plain": [
       "[0.8241736304549674, 0.8703497369235531, 0.8069281956050759]"
      ]
     },
     "execution_count": 24,
     "metadata": {},
     "output_type": "execute_result"
    }
   ],
   "source": [
    "score_digits"
   ]
  },
  {
   "cell_type": "code",
   "execution_count": 25,
   "metadata": {},
   "outputs": [],
   "source": [
    "score_cancer = []\n",
    "score_cancer.append(cross(0, data_2, target_2))"
   ]
  },
  {
   "cell_type": "code",
   "execution_count": 26,
   "metadata": {},
   "outputs": [],
   "source": [
    "score_cancer.append(cross(1, data_2, target_2))"
   ]
  },
  {
   "cell_type": "code",
   "execution_count": 27,
   "metadata": {},
   "outputs": [],
   "source": [
    "score_cancer.append(cross(2, data_2, target_2))"
   ]
  },
  {
   "cell_type": "code",
   "execution_count": 28,
   "metadata": {},
   "outputs": [
    {
     "data": {
      "text/plain": [
       "[0.6274181027790716, 0.8963204471355379, 0.9385188635305075]"
      ]
     },
     "execution_count": 28,
     "metadata": {},
     "output_type": "execute_result"
    }
   ],
   "source": [
    "score_cancer"
   ]
  },
  {
   "cell_type": "code",
   "execution_count": 32,
   "metadata": {},
   "outputs": [],
   "source": [
    "def answer_1(ans):\n",
    "    with open(\"naive_1.txt\", \"w\") as file_obj:\n",
    "        file_obj.write(str(ans))\n",
    "\n",
    "answer_1(max(score_cancer))"
   ]
  },
  {
   "cell_type": "code",
   "execution_count": 33,
   "metadata": {},
   "outputs": [],
   "source": [
    "def answer_2(ans):\n",
    "    with open(\"naive_2.txt\", \"w\") as file_obj:\n",
    "        file_obj.write(str(ans))\n",
    "\n",
    "answer_2(max(score_digits))"
   ]
  },
  {
   "cell_type": "code",
   "execution_count": 43,
   "metadata": {},
   "outputs": [],
   "source": [
    "def answer_3(ans):\n",
    "    with open(\"naive_3.txt\", \"w\") as file_obj:\n",
    "        file_obj.write(\" \".join([str(num) for num in ans]))\n",
    "\n",
    "ans = [3, 4]\n",
    "answer_3(ans)"
   ]
  }
 ],
 "metadata": {
  "kernelspec": {
   "display_name": "Python 3",
   "language": "python",
   "name": "python3"
  },
  "language_info": {
   "codemirror_mode": {
    "name": "ipython",
    "version": 3
   },
   "file_extension": ".py",
   "mimetype": "text/x-python",
   "name": "python",
   "nbconvert_exporter": "python",
   "pygments_lexer": "ipython3",
   "version": "3.7.6"
  }
 },
 "nbformat": 4,
 "nbformat_minor": 4
}
