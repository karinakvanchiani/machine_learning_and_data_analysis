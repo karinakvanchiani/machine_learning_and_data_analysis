{
 "cells": [
  {
   "cell_type": "code",
   "execution_count": 11,
   "metadata": {},
   "outputs": [],
   "source": [
    "from sklearn.datasets import load_digits\n",
    "from sklearn.ensemble import RandomForestClassifier \n",
    "from scipy.spatial.distance import euclidean\n",
    "from sklearn.metrics import accuracy_score"
   ]
  },
  {
   "cell_type": "code",
   "execution_count": 10,
   "metadata": {},
   "outputs": [],
   "source": [
    "digits = load_digits()\n",
    "boundary = int(0.75 * digits.target.shape[0])\n",
    "X_train = digits.data[:boundary]\n",
    "y_train = digits.target[:boundary]\n",
    "X_test = digits.data[boundary:]\n",
    "y_test = digits.target[boundary:]"
   ]
  },
  {
   "cell_type": "code",
   "execution_count": 18,
   "metadata": {},
   "outputs": [],
   "source": [
    "pred = []\n",
    "for x in X_test:\n",
    "    dist = (euclidean(x, example) for example in X_train)\n",
    "    neib = sorted(((dist, target) for (dist, target) in zip(dist, y_train)), key = lambda x: x[0])\n",
    "    neib_target = [target for (_, target) in neib[:1]]\n",
    "    pred.append(neib_target)\n",
    "\n",
    "def answer_1(ans):\n",
    "    with open('nn_1.txt', 'w') as file:\n",
    "        file.write(str(ans))\n",
    "        \n",
    "answer_1(1 - accuracy_score(y_test, pred))"
   ]
  },
  {
   "cell_type": "code",
   "execution_count": 19,
   "metadata": {},
   "outputs": [],
   "source": [
    "clf = RandomForestClassifier(n_estimators = 1000)\n",
    "clf.fit(X_train, y_train)\n",
    "\n",
    "def answer_2(ans):\n",
    "    with open('nn_2.txt', 'w') as file:\n",
    "        file.write(str(ans))\n",
    "        \n",
    "answer_2(1 - accuracy_score(y_test, clf.predict(X_test)))"
   ]
  }
 ],
 "metadata": {
  "kernelspec": {
   "display_name": "Python 3",
   "language": "python",
   "name": "python3"
  },
  "language_info": {
   "codemirror_mode": {
    "name": "ipython",
    "version": 3
   },
   "file_extension": ".py",
   "mimetype": "text/x-python",
   "name": "python",
   "nbconvert_exporter": "python",
   "pygments_lexer": "ipython3",
   "version": "3.7.6"
  }
 },
 "nbformat": 4,
 "nbformat_minor": 4
}
