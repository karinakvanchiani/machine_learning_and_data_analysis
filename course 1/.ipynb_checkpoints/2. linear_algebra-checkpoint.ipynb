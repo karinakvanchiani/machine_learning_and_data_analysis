{
 "cells": [
  {
   "cell_type": "code",
   "execution_count": 1,
   "metadata": {},
   "outputs": [],
   "source": [
    "import numpy as np\n",
    "from scipy.spatial.distance import cosine\n",
    "import re\n",
    "from itertools import chain"
   ]
  },
  {
   "cell_type": "markdown",
   "metadata": {},
   "source": [
    "## 1. Скачайте файл с предложениями (sentences.txt)."
   ]
  },
  {
   "cell_type": "code",
   "execution_count": 5,
   "metadata": {},
   "outputs": [],
   "source": [
    "text = open('C:\\\\Users\\\\kvanc\\\\coursera\\\\files\\\\sentences.txt', 'r')"
   ]
  },
  {
   "cell_type": "markdown",
   "metadata": {},
   "source": [
    "## 2. Приведение к нижнему регистру."
   ]
  },
  {
   "cell_type": "markdown",
   "metadata": {},
   "source": [
    "Каждая строка в файле соответствует одному предложению. Считайте их, приведите каждую к нижнему регистру с помощью строковой функции lower()."
   ]
  },
  {
   "cell_type": "code",
   "execution_count": 6,
   "metadata": {},
   "outputs": [
    {
     "data": {
      "text/plain": [
       "['in comparison to dogs, cats have not undergone major changes during the domestication process.',\n",
       " 'as cat simply catenates streams of bytes, it can be also used to concatenate binary files, where it will just concatenate sequence of bytes.',\n",
       " 'a common interactive use of cat for a single file is to output the content of a file to standard output.',\n",
       " 'cats can hear sounds too faint or too high in frequency for human ears, such as those made by mice and other small animals.',\n",
       " 'in one, people deliberately tamed cats in a process of artificial selection, as they were useful predators of vermin.',\n",
       " 'the domesticated cat and its closest wild ancestor are both diploid organisms that possess 38 chromosomes and roughly 20,000 genes.',\n",
       " 'domestic cats are similar in size to the other members of the genus felis, typically weighing between 4 and 5 kg (8.8 and 11.0 lb).',\n",
       " 'however, if the output is piped or redirected, cat is unnecessary.',\n",
       " 'cat with one named file is safer where human error is a concern - one wrong use of the default redirection symbol \">\" instead of \"<\" (often adjacent on keyboards) may permanently delete the file you were just needing to read.',\n",
       " 'in terms of legibility, a sequence of commands starting with cat and connected by pipes has a clear left-to-right flow of information.',\n",
       " 'cat command is one of the basic commands that you learned when you started in the unix / linux world.',\n",
       " 'using cat command, the lines received from stdin can be redirected to a new file using redirection symbols.',\n",
       " 'when you type simply cat command without any arguments, it just receives the stdin content and displays it in the stdout.',\n",
       " 'leopard was released on october 26, 2007 as the successor of tiger (version 10.4), and is available in two editions.',\n",
       " 'according to apple, leopard contains over 300 changes and enhancements over its predecessor, mac os x tiger.',\n",
       " 'as of mid 2010, some apple computers have firmware factory installed which will no longer allow installation of mac os x leopard.',\n",
       " 'since apple moved to using intel processors in their computers, the osx86 community has developed and now also allows mac os x tiger and later releases to be installed on non-apple x86-based computers.',\n",
       " \"os x mountain lion was released on july 25, 2012 for purchase and download through apple's mac app store, as part of a switch to releasing os x versions online and every year.\",\n",
       " 'apple has released a small patch for the three most recent versions of safari running on os x yosemite, mavericks, and mountain lion.',\n",
       " 'the mountain lion release marks the second time apple has offered an incremental upgrade, rather than releasing a new cat entirely.',\n",
       " \"mac os x mountain lion installs in place, so you won't need to create a separate disk or run the installation off an external drive.\",\n",
       " \"the fifth major update to mac os x, leopard, contains such a mountain of features - more than 300 by apple's count.\"]"
      ]
     },
     "execution_count": 6,
     "metadata": {},
     "output_type": "execute_result"
    }
   ],
   "source": [
    "sents = [line.strip().lower() for line in text]\n",
    "sents"
   ]
  },
  {
   "cell_type": "code",
   "execution_count": 7,
   "metadata": {},
   "outputs": [
    {
     "data": {
      "text/plain": [
       "'as cat simply catenates streams of bytes, it can be also used to concatenate binary files, where it will just concatenate sequence of bytes.'"
      ]
     },
     "execution_count": 7,
     "metadata": {},
     "output_type": "execute_result"
    }
   ],
   "source": [
    "sents[1]"
   ]
  },
  {
   "cell_type": "markdown",
   "metadata": {},
   "source": [
    "## 3. Произведите токенизацию, то есть разбиение текстов на слова."
   ]
  },
  {
   "cell_type": "markdown",
   "metadata": {},
   "source": [
    "Для этого можно воспользоваться регулярным выражением, которое считает разделителем любой символ, не являющийся буквой: re.split('[^a-z]', t). Не забудьте удалить пустые слова после разделения."
   ]
  },
  {
   "cell_type": "code",
   "execution_count": 8,
   "metadata": {},
   "outputs": [
    {
     "data": {
      "text/plain": [
       "[['in',\n",
       "  'comparison',\n",
       "  'to',\n",
       "  'dogs',\n",
       "  'cats',\n",
       "  'have',\n",
       "  'not',\n",
       "  'undergone',\n",
       "  'major',\n",
       "  'changes',\n",
       "  'during',\n",
       "  'the',\n",
       "  'domestication',\n",
       "  'process'],\n",
       " ['as',\n",
       "  'cat',\n",
       "  'simply',\n",
       "  'catenates',\n",
       "  'streams',\n",
       "  'of',\n",
       "  'bytes',\n",
       "  'it',\n",
       "  'can',\n",
       "  'be',\n",
       "  'also',\n",
       "  'used',\n",
       "  'to',\n",
       "  'concatenate',\n",
       "  'binary',\n",
       "  'files',\n",
       "  'where',\n",
       "  'it',\n",
       "  'will',\n",
       "  'just',\n",
       "  'concatenate',\n",
       "  'sequence',\n",
       "  'of',\n",
       "  'bytes'],\n",
       " ['a',\n",
       "  'common',\n",
       "  'interactive',\n",
       "  'use',\n",
       "  'of',\n",
       "  'cat',\n",
       "  'for',\n",
       "  'a',\n",
       "  'single',\n",
       "  'file',\n",
       "  'is',\n",
       "  'to',\n",
       "  'output',\n",
       "  'the',\n",
       "  'content',\n",
       "  'of',\n",
       "  'a',\n",
       "  'file',\n",
       "  'to',\n",
       "  'standard',\n",
       "  'output'],\n",
       " ['cats',\n",
       "  'can',\n",
       "  'hear',\n",
       "  'sounds',\n",
       "  'too',\n",
       "  'faint',\n",
       "  'or',\n",
       "  'too',\n",
       "  'high',\n",
       "  'in',\n",
       "  'frequency',\n",
       "  'for',\n",
       "  'human',\n",
       "  'ears',\n",
       "  'such',\n",
       "  'as',\n",
       "  'those',\n",
       "  'made',\n",
       "  'by',\n",
       "  'mice',\n",
       "  'and',\n",
       "  'other',\n",
       "  'small',\n",
       "  'animals'],\n",
       " ['in',\n",
       "  'one',\n",
       "  'people',\n",
       "  'deliberately',\n",
       "  'tamed',\n",
       "  'cats',\n",
       "  'in',\n",
       "  'a',\n",
       "  'process',\n",
       "  'of',\n",
       "  'artificial',\n",
       "  'selection',\n",
       "  'as',\n",
       "  'they',\n",
       "  'were',\n",
       "  'useful',\n",
       "  'predators',\n",
       "  'of',\n",
       "  'vermin'],\n",
       " ['the',\n",
       "  'domesticated',\n",
       "  'cat',\n",
       "  'and',\n",
       "  'its',\n",
       "  'closest',\n",
       "  'wild',\n",
       "  'ancestor',\n",
       "  'are',\n",
       "  'both',\n",
       "  'diploid',\n",
       "  'organisms',\n",
       "  'that',\n",
       "  'possess',\n",
       "  'chromosomes',\n",
       "  'and',\n",
       "  'roughly',\n",
       "  'genes'],\n",
       " ['domestic',\n",
       "  'cats',\n",
       "  'are',\n",
       "  'similar',\n",
       "  'in',\n",
       "  'size',\n",
       "  'to',\n",
       "  'the',\n",
       "  'other',\n",
       "  'members',\n",
       "  'of',\n",
       "  'the',\n",
       "  'genus',\n",
       "  'felis',\n",
       "  'typically',\n",
       "  'weighing',\n",
       "  'between',\n",
       "  'and',\n",
       "  'kg',\n",
       "  'and',\n",
       "  'lb'],\n",
       " ['however',\n",
       "  'if',\n",
       "  'the',\n",
       "  'output',\n",
       "  'is',\n",
       "  'piped',\n",
       "  'or',\n",
       "  'redirected',\n",
       "  'cat',\n",
       "  'is',\n",
       "  'unnecessary'],\n",
       " ['cat',\n",
       "  'with',\n",
       "  'one',\n",
       "  'named',\n",
       "  'file',\n",
       "  'is',\n",
       "  'safer',\n",
       "  'where',\n",
       "  'human',\n",
       "  'error',\n",
       "  'is',\n",
       "  'a',\n",
       "  'concern',\n",
       "  'one',\n",
       "  'wrong',\n",
       "  'use',\n",
       "  'of',\n",
       "  'the',\n",
       "  'default',\n",
       "  'redirection',\n",
       "  'symbol',\n",
       "  'instead',\n",
       "  'of',\n",
       "  'often',\n",
       "  'adjacent',\n",
       "  'on',\n",
       "  'keyboards',\n",
       "  'may',\n",
       "  'permanently',\n",
       "  'delete',\n",
       "  'the',\n",
       "  'file',\n",
       "  'you',\n",
       "  'were',\n",
       "  'just',\n",
       "  'needing',\n",
       "  'to',\n",
       "  'read'],\n",
       " ['in',\n",
       "  'terms',\n",
       "  'of',\n",
       "  'legibility',\n",
       "  'a',\n",
       "  'sequence',\n",
       "  'of',\n",
       "  'commands',\n",
       "  'starting',\n",
       "  'with',\n",
       "  'cat',\n",
       "  'and',\n",
       "  'connected',\n",
       "  'by',\n",
       "  'pipes',\n",
       "  'has',\n",
       "  'a',\n",
       "  'clear',\n",
       "  'left',\n",
       "  'to',\n",
       "  'right',\n",
       "  'flow',\n",
       "  'of',\n",
       "  'information'],\n",
       " ['cat',\n",
       "  'command',\n",
       "  'is',\n",
       "  'one',\n",
       "  'of',\n",
       "  'the',\n",
       "  'basic',\n",
       "  'commands',\n",
       "  'that',\n",
       "  'you',\n",
       "  'learned',\n",
       "  'when',\n",
       "  'you',\n",
       "  'started',\n",
       "  'in',\n",
       "  'the',\n",
       "  'unix',\n",
       "  'linux',\n",
       "  'world'],\n",
       " ['using',\n",
       "  'cat',\n",
       "  'command',\n",
       "  'the',\n",
       "  'lines',\n",
       "  'received',\n",
       "  'from',\n",
       "  'stdin',\n",
       "  'can',\n",
       "  'be',\n",
       "  'redirected',\n",
       "  'to',\n",
       "  'a',\n",
       "  'new',\n",
       "  'file',\n",
       "  'using',\n",
       "  'redirection',\n",
       "  'symbols'],\n",
       " ['when',\n",
       "  'you',\n",
       "  'type',\n",
       "  'simply',\n",
       "  'cat',\n",
       "  'command',\n",
       "  'without',\n",
       "  'any',\n",
       "  'arguments',\n",
       "  'it',\n",
       "  'just',\n",
       "  'receives',\n",
       "  'the',\n",
       "  'stdin',\n",
       "  'content',\n",
       "  'and',\n",
       "  'displays',\n",
       "  'it',\n",
       "  'in',\n",
       "  'the',\n",
       "  'stdout'],\n",
       " ['leopard',\n",
       "  'was',\n",
       "  'released',\n",
       "  'on',\n",
       "  'october',\n",
       "  'as',\n",
       "  'the',\n",
       "  'successor',\n",
       "  'of',\n",
       "  'tiger',\n",
       "  'version',\n",
       "  'and',\n",
       "  'is',\n",
       "  'available',\n",
       "  'in',\n",
       "  'two',\n",
       "  'editions'],\n",
       " ['according',\n",
       "  'to',\n",
       "  'apple',\n",
       "  'leopard',\n",
       "  'contains',\n",
       "  'over',\n",
       "  'changes',\n",
       "  'and',\n",
       "  'enhancements',\n",
       "  'over',\n",
       "  'its',\n",
       "  'predecessor',\n",
       "  'mac',\n",
       "  'os',\n",
       "  'x',\n",
       "  'tiger'],\n",
       " ['as',\n",
       "  'of',\n",
       "  'mid',\n",
       "  'some',\n",
       "  'apple',\n",
       "  'computers',\n",
       "  'have',\n",
       "  'firmware',\n",
       "  'factory',\n",
       "  'installed',\n",
       "  'which',\n",
       "  'will',\n",
       "  'no',\n",
       "  'longer',\n",
       "  'allow',\n",
       "  'installation',\n",
       "  'of',\n",
       "  'mac',\n",
       "  'os',\n",
       "  'x',\n",
       "  'leopard'],\n",
       " ['since',\n",
       "  'apple',\n",
       "  'moved',\n",
       "  'to',\n",
       "  'using',\n",
       "  'intel',\n",
       "  'processors',\n",
       "  'in',\n",
       "  'their',\n",
       "  'computers',\n",
       "  'the',\n",
       "  'osx',\n",
       "  'community',\n",
       "  'has',\n",
       "  'developed',\n",
       "  'and',\n",
       "  'now',\n",
       "  'also',\n",
       "  'allows',\n",
       "  'mac',\n",
       "  'os',\n",
       "  'x',\n",
       "  'tiger',\n",
       "  'and',\n",
       "  'later',\n",
       "  'releases',\n",
       "  'to',\n",
       "  'be',\n",
       "  'installed',\n",
       "  'on',\n",
       "  'non',\n",
       "  'apple',\n",
       "  'x',\n",
       "  'based',\n",
       "  'computers'],\n",
       " ['os',\n",
       "  'x',\n",
       "  'mountain',\n",
       "  'lion',\n",
       "  'was',\n",
       "  'released',\n",
       "  'on',\n",
       "  'july',\n",
       "  'for',\n",
       "  'purchase',\n",
       "  'and',\n",
       "  'download',\n",
       "  'through',\n",
       "  'apple',\n",
       "  's',\n",
       "  'mac',\n",
       "  'app',\n",
       "  'store',\n",
       "  'as',\n",
       "  'part',\n",
       "  'of',\n",
       "  'a',\n",
       "  'switch',\n",
       "  'to',\n",
       "  'releasing',\n",
       "  'os',\n",
       "  'x',\n",
       "  'versions',\n",
       "  'online',\n",
       "  'and',\n",
       "  'every',\n",
       "  'year'],\n",
       " ['apple',\n",
       "  'has',\n",
       "  'released',\n",
       "  'a',\n",
       "  'small',\n",
       "  'patch',\n",
       "  'for',\n",
       "  'the',\n",
       "  'three',\n",
       "  'most',\n",
       "  'recent',\n",
       "  'versions',\n",
       "  'of',\n",
       "  'safari',\n",
       "  'running',\n",
       "  'on',\n",
       "  'os',\n",
       "  'x',\n",
       "  'yosemite',\n",
       "  'mavericks',\n",
       "  'and',\n",
       "  'mountain',\n",
       "  'lion'],\n",
       " ['the',\n",
       "  'mountain',\n",
       "  'lion',\n",
       "  'release',\n",
       "  'marks',\n",
       "  'the',\n",
       "  'second',\n",
       "  'time',\n",
       "  'apple',\n",
       "  'has',\n",
       "  'offered',\n",
       "  'an',\n",
       "  'incremental',\n",
       "  'upgrade',\n",
       "  'rather',\n",
       "  'than',\n",
       "  'releasing',\n",
       "  'a',\n",
       "  'new',\n",
       "  'cat',\n",
       "  'entirely'],\n",
       " ['mac',\n",
       "  'os',\n",
       "  'x',\n",
       "  'mountain',\n",
       "  'lion',\n",
       "  'installs',\n",
       "  'in',\n",
       "  'place',\n",
       "  'so',\n",
       "  'you',\n",
       "  'won',\n",
       "  't',\n",
       "  'need',\n",
       "  'to',\n",
       "  'create',\n",
       "  'a',\n",
       "  'separate',\n",
       "  'disk',\n",
       "  'or',\n",
       "  'run',\n",
       "  'the',\n",
       "  'installation',\n",
       "  'off',\n",
       "  'an',\n",
       "  'external',\n",
       "  'drive'],\n",
       " ['the',\n",
       "  'fifth',\n",
       "  'major',\n",
       "  'update',\n",
       "  'to',\n",
       "  'mac',\n",
       "  'os',\n",
       "  'x',\n",
       "  'leopard',\n",
       "  'contains',\n",
       "  'such',\n",
       "  'a',\n",
       "  'mountain',\n",
       "  'of',\n",
       "  'features',\n",
       "  'more',\n",
       "  'than',\n",
       "  'by',\n",
       "  'apple',\n",
       "  's',\n",
       "  'count']]"
      ]
     },
     "execution_count": 8,
     "metadata": {},
     "output_type": "execute_result"
    }
   ],
   "source": [
    "regexp = re.compile('[^a-z]')\n",
    "sent = [[word for word in re.split(regexp, line) if word] for line in sents]\n",
    "sent"
   ]
  },
  {
   "cell_type": "markdown",
   "metadata": {},
   "source": [
    "## 4. Составьте список всех слов, встречающихся в предложениях."
   ]
  },
  {
   "cell_type": "markdown",
   "metadata": {},
   "source": [
    "Сопоставьте каждому слову индекс от нуля до (d - 1), где d — число различных слов в предложениях. Для этого удобно воспользоваться структурой dict."
   ]
  },
  {
   "cell_type": "code",
   "execution_count": 10,
   "metadata": {},
   "outputs": [],
   "source": [
    "words = {word: index for index, word in enumerate(set(chain(*sent)))}"
   ]
  },
  {
   "cell_type": "code",
   "execution_count": 11,
   "metadata": {},
   "outputs": [
    {
     "data": {
      "text/plain": [
       "254"
      ]
     },
     "execution_count": 11,
     "metadata": {},
     "output_type": "execute_result"
    }
   ],
   "source": [
    "len(words)"
   ]
  },
  {
   "cell_type": "markdown",
   "metadata": {},
   "source": [
    "## 5. Создайте матрицу размера n * d, где n — число предложений."
   ]
  },
  {
   "cell_type": "markdown",
   "metadata": {},
   "source": [
    "Заполните ее: элемент с индексом (i, j) в этой матрице должен быть равен количеству вхождений j-го слова в i-е предложение. У вас должна получиться матрица размера 22 * 254."
   ]
  },
  {
   "cell_type": "code",
   "execution_count": 12,
   "metadata": {},
   "outputs": [
    {
     "data": {
      "text/plain": [
       "(22, 254)"
      ]
     },
     "execution_count": 12,
     "metadata": {},
     "output_type": "execute_result"
    }
   ],
   "source": [
    "matrix = np.zeros((len(sents), len(words)))\n",
    "matrix.shape"
   ]
  },
  {
   "cell_type": "code",
   "execution_count": 13,
   "metadata": {},
   "outputs": [],
   "source": [
    "for i in range(len(sents)):\n",
    "    for j in sent[i]:\n",
    "        matrix[i][words[j]] += 1"
   ]
  },
  {
   "cell_type": "code",
   "execution_count": 14,
   "metadata": {},
   "outputs": [
    {
     "data": {
      "text/plain": [
       "array([[0., 0., 0., ..., 0., 0., 0.],\n",
       "       [1., 0., 0., ..., 0., 0., 0.],\n",
       "       [0., 0., 0., ..., 0., 0., 0.],\n",
       "       ...,\n",
       "       [0., 0., 0., ..., 0., 0., 0.],\n",
       "       [0., 0., 0., ..., 0., 0., 0.],\n",
       "       [0., 0., 0., ..., 0., 0., 0.]])"
      ]
     },
     "execution_count": 14,
     "metadata": {},
     "output_type": "execute_result"
    }
   ],
   "source": [
    "matrix"
   ]
  },
  {
   "cell_type": "markdown",
   "metadata": {},
   "source": [
    "## 6. Косинусное расстояние."
   ]
  },
  {
   "cell_type": "markdown",
   "metadata": {},
   "source": [
    "Найдите косинусное расстояние от предложения в самой первой строке (In comparison to dogs, cats have not undergone...) до всех остальных с помощью функции scipy.spatial.distance.cosine.Какие номера у двух предложений, ближайших к нему по этому расстоянию (строки нумеруются с нуля)? Эти два числа и будут ответами на задание. Само предложение (In comparison to dogs, cats have not undergone... ) имеет индекс 0."
   ]
  },
  {
   "cell_type": "code",
   "execution_count": 15,
   "metadata": {},
   "outputs": [
    {
     "data": {
      "text/plain": [
       "[0.0,\n",
       " 0.9527544408738466,\n",
       " 0.8644738145642124,\n",
       " 0.8951715163278082,\n",
       " 0.7770887149698589,\n",
       " 0.9402385695332803,\n",
       " 0.7327387580875756,\n",
       " 0.9258750683338899,\n",
       " 0.8842724875284311,\n",
       " 0.9055088817476932,\n",
       " 0.8328165362273942,\n",
       " 0.8804771390665607,\n",
       " 0.8396432548525454,\n",
       " 0.8703592552895671,\n",
       " 0.8740118423302576,\n",
       " 0.9442721787424647,\n",
       " 0.8406361854220809,\n",
       " 0.956644501523794,\n",
       " 0.9442721787424647,\n",
       " 0.8885443574849294,\n",
       " 0.8427572744917122,\n",
       " 0.8250364469440588]"
      ]
     },
     "execution_count": 15,
     "metadata": {},
     "output_type": "execute_result"
    }
   ],
   "source": [
    "ans = []\n",
    "for i in range(0, 22):\n",
    "    ans += [cosine(matrix[0], matrix[i])]\n",
    "ans"
   ]
  },
  {
   "cell_type": "code",
   "execution_count": 16,
   "metadata": {},
   "outputs": [],
   "source": [
    "ans_sort = sorted(ans)\n",
    "a, k = ans.index(ans_sort[1]), ans.index(ans_sort[2])"
   ]
  },
  {
   "cell_type": "code",
   "execution_count": 17,
   "metadata": {},
   "outputs": [],
   "source": [
    "from matplotlib import pylab as plt\n",
    "import scipy\n",
    "%matplotlib inline"
   ]
  },
  {
   "cell_type": "markdown",
   "metadata": {},
   "source": [
    "## 1. Система линейных уравнений."
   ]
  },
  {
   "cell_type": "markdown",
   "metadata": {},
   "source": [
    "Сформируйте систему линейных уравнений (то есть задайте матрицу коэффициентов A и свободный вектор b) для многочлена первой степени, который должен совпадать с функцией f в точках 1 и 15.Решите данную систему с помощью функции scipy.linalg.solve. Нарисуйте функцию f и полученный многочлен. Хорошо ли он приближает исходную функцию?"
   ]
  },
  {
   "cell_type": "code",
   "execution_count": 18,
   "metadata": {},
   "outputs": [],
   "source": [
    "def f(x):\n",
    "    return np.sin(x / 5) * np.exp(x / 10) + 5 * np.exp(-x / 2)\n",
    "x = np.arange(1, 15, 0.1)"
   ]
  },
  {
   "cell_type": "code",
   "execution_count": 19,
   "metadata": {},
   "outputs": [
    {
     "data": {
      "image/png": "[encoded data removed]",
      "text/plain": [
       "<Figure size 432x288 with 1 Axes>"
      ]
     },
     "metadata": {
      "needs_background": "light"
     },
     "output_type": "display_data"
    }
   ],
   "source": [
    "plt.plot(x, f(x))\n",
    "plt.grid(True)\n",
    "plt.show()"
   ]
  },
  {
   "cell_type": "code",
   "execution_count": 20,
   "metadata": {},
   "outputs": [
    {
     "data": {
      "text/plain": [
       "3.252216865271419"
      ]
     },
     "execution_count": 20,
     "metadata": {},
     "output_type": "execute_result"
    }
   ],
   "source": [
    "f(1)"
   ]
  },
  {
   "cell_type": "code",
   "execution_count": 21,
   "metadata": {},
   "outputs": [
    {
     "data": {
      "text/plain": [
       "0.6352214195786656"
      ]
     },
     "execution_count": 21,
     "metadata": {},
     "output_type": "execute_result"
    }
   ],
   "source": [
    "f(15)"
   ]
  },
  {
   "cell_type": "code",
   "execution_count": 22,
   "metadata": {},
   "outputs": [],
   "source": [
    "rank = 1\n",
    "a = [[1 ** n for n in range(0, rank + 1)],\n",
    "    [15 ** n for n in range(0, rank + 1)]]\n",
    "b = [f(1), f(15)]"
   ]
  },
  {
   "cell_type": "code",
   "execution_count": 23,
   "metadata": {},
   "outputs": [
    {
     "data": {
      "image/png": "[encoded data removed]",
      "text/plain": [
       "<Figure size 432x288 with 1 Axes>"
      ]
     },
     "metadata": {
      "needs_background": "light"
     },
     "output_type": "display_data"
    }
   ],
   "source": [
    "p = scipy.linalg.solve(a, b)\n",
    "g = lambda x, p: p[0] + p[1] * x\n",
    "\n",
    "x = np.arange(1., 15., 0.1)\n",
    "plt.plot(x, f(x))\n",
    "plt.plot(x, g(x, p))\n",
    "plt.grid(True)\n",
    "plt.show()"
   ]
  },
  {
   "cell_type": "markdown",
   "metadata": {},
   "source": [
    "## 2. Аппроксимация (2я степень)."
   ]
  },
  {
   "cell_type": "markdown",
   "metadata": {},
   "source": [
    "Повторите те же шаги для многочлена второй степени, который совпадает с функцией f в точках 1, 8 и 15. Улучшилось ли качество аппроксимации?"
   ]
  },
  {
   "cell_type": "code",
   "execution_count": 24,
   "metadata": {},
   "outputs": [],
   "source": [
    "rank = 2\n",
    "a = [[1 ** n for n in range(0, rank + 1)],\n",
    "    [8 ** n for n in range(0, rank + 1)],\n",
    "    [15 ** n for n in range(0, rank + 1)]]\n",
    "b = [f(1), f(8), f(15)]"
   ]
  },
  {
   "cell_type": "code",
   "execution_count": 25,
   "metadata": {},
   "outputs": [
    {
     "data": {
      "image/png": "[encoded data removed]",
      "text/plain": [
       "<Figure size 432x288 with 1 Axes>"
      ]
     },
     "metadata": {
      "needs_background": "light"
     },
     "output_type": "display_data"
    }
   ],
   "source": [
    "p = scipy.linalg.solve(a, b)\n",
    "g = lambda x, p: p[0] + p[1] * x + p[2] * x ** 2\n",
    "\n",
    "plt.plot(x, f(x))\n",
    "plt.plot(x, g(x, p))\n",
    "plt.grid(True)\n",
    "plt.show()"
   ]
  },
  {
   "cell_type": "markdown",
   "metadata": {},
   "source": [
    "## 3. Аппроксимация (3я степень)."
   ]
  },
  {
   "cell_type": "markdown",
   "metadata": {},
   "source": [
    "Повторите те же шаги для многочлена третьей степени, который совпадает с функцией f в точках 1, 4, 10 и 15.Хорошо ли он аппроксимирует функцию? Коэффициенты данного многочлена (четыре числа в следующем порядке: w_0, w_1, w_2, w_3) являются ответом на задачу. Округлять коэффициенты не обязательно, но при желании можете произвести округление до второго знака (т.е. до числа вида 0.42)"
   ]
  },
  {
   "cell_type": "code",
   "execution_count": 27,
   "metadata": {},
   "outputs": [],
   "source": [
    "rank = 3\n",
    "a = [[1 ** n for n in range(0, rank + 1)],\n",
    "    [4 ** n for n in range(0, rank + 1)],\n",
    "    [10 ** n for n in range(0, rank + 1)],\n",
    "    [15 ** n for n in range(0, rank + 1)]]\n",
    "b = [f(1), f(4), f(10), f(15)]"
   ]
  },
  {
   "cell_type": "code",
   "execution_count": 28,
   "metadata": {},
   "outputs": [
    {
     "data": {
      "image/png": "[encoded data removed]",
      "text/plain": [
       "<Figure size 432x288 with 1 Axes>"
      ]
     },
     "metadata": {
      "needs_background": "light"
     },
     "output_type": "display_data"
    }
   ],
   "source": [
    "p = scipy.linalg.solve(a, b)\n",
    "g = lambda x, p: p[0] + p[1] * x + p[2] * x ** 2 + p[3] * x ** 3\n",
    "\n",
    "plt.plot(x, f(x))\n",
    "plt.plot(x, g(x, p))\n",
    "plt.grid(True)\n",
    "plt.show()"
   ]
  },
  {
   "cell_type": "code",
   "execution_count": 29,
   "metadata": {},
   "outputs": [],
   "source": [
    "answer = map(lambda x: x.round(2), scipy.linalg.solve(a, b))"
   ]
  },
  {
   "cell_type": "markdown",
   "metadata": {},
   "source": [
    "## 4. Запишите полученные числа в файл, разделив пробелами. "
   ]
  },
  {
   "cell_type": "markdown",
   "metadata": {},
   "source": [
    "Обратите внимание, что файл должен состоять из одной строки, в конце которой не должно быть переноса. Пример файла с решением вы можете найти в конце задания (submission-2.txt)."
   ]
  },
  {
   "cell_type": "code",
   "execution_count": 30,
   "metadata": {},
   "outputs": [],
   "source": [
    "with open('22.txt', 'w') as file:\n",
    "    file.write(' '.join([str(p) for p in answer]))"
   ]
  }
 ],
 "metadata": {
  "kernelspec": {
   "display_name": "Python 3",
   "language": "python",
   "name": "python3"
  },
  "language_info": {
   "codemirror_mode": {
    "name": "ipython",
    "version": 3
   },
   "file_extension": ".py",
   "mimetype": "text/x-python",
   "name": "python",
   "nbconvert_exporter": "python",
   "pygments_lexer": "ipython3",
   "version": "3.7.4"
  }
 },
 "nbformat": 4,
 "nbformat_minor": 2
}
